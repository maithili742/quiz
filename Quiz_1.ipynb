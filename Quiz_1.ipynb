{
 "cells": [
  {
   "cell_type": "code",
   "execution_count": 1,
   "id": "a0f305ab",
   "metadata": {},
   "outputs": [],
   "source": [
    "import numpy as np\n",
    "import pandas as pd"
   ]
  },
  {
   "cell_type": "code",
   "execution_count": 4,
   "id": "057b6749",
   "metadata": {},
   "outputs": [],
   "source": [
    "df=pd.read_csv(\"data.csv\", encoding='latin1')"
   ]
  },
  {
   "cell_type": "code",
   "execution_count": 5,
   "id": "3e2f4f5a",
   "metadata": {},
   "outputs": [
    {
     "data": {
      "text/html": [
       "<div>\n",
       "<style scoped>\n",
       "    .dataframe tbody tr th:only-of-type {\n",
       "        vertical-align: middle;\n",
       "    }\n",
       "\n",
       "    .dataframe tbody tr th {\n",
       "        vertical-align: top;\n",
       "    }\n",
       "\n",
       "    .dataframe thead th {\n",
       "        text-align: right;\n",
       "    }\n",
       "</style>\n",
       "<table border=\"1\" class=\"dataframe\">\n",
       "  <thead>\n",
       "    <tr style=\"text-align: right;\">\n",
       "      <th></th>\n",
       "      <th>Area Code</th>\n",
       "      <th>Area</th>\n",
       "      <th>Item Code</th>\n",
       "      <th>Item</th>\n",
       "      <th>Element Code</th>\n",
       "      <th>Element</th>\n",
       "      <th>Unit</th>\n",
       "      <th>Y2014</th>\n",
       "      <th>Y2015</th>\n",
       "      <th>Y2016</th>\n",
       "      <th>Y2017</th>\n",
       "      <th>Y2018</th>\n",
       "    </tr>\n",
       "  </thead>\n",
       "  <tbody>\n",
       "    <tr>\n",
       "      <th>0</th>\n",
       "      <td>4</td>\n",
       "      <td>Algeria</td>\n",
       "      <td>2501</td>\n",
       "      <td>Population</td>\n",
       "      <td>511</td>\n",
       "      <td>Total Population - Both sexes</td>\n",
       "      <td>1000 persons</td>\n",
       "      <td>38924.00</td>\n",
       "      <td>39728.00</td>\n",
       "      <td>40551.00</td>\n",
       "      <td>41389.00</td>\n",
       "      <td>42228.00</td>\n",
       "    </tr>\n",
       "    <tr>\n",
       "      <th>1</th>\n",
       "      <td>4</td>\n",
       "      <td>Algeria</td>\n",
       "      <td>2501</td>\n",
       "      <td>Population</td>\n",
       "      <td>5301</td>\n",
       "      <td>Domestic supply quantity</td>\n",
       "      <td>1000 tonnes</td>\n",
       "      <td>0.00</td>\n",
       "      <td>0.00</td>\n",
       "      <td>0.00</td>\n",
       "      <td>0.00</td>\n",
       "      <td>0.00</td>\n",
       "    </tr>\n",
       "    <tr>\n",
       "      <th>2</th>\n",
       "      <td>4</td>\n",
       "      <td>Algeria</td>\n",
       "      <td>2901</td>\n",
       "      <td>Grand Total</td>\n",
       "      <td>664</td>\n",
       "      <td>Food supply (kcal/capita/day)</td>\n",
       "      <td>kcal/capita/day</td>\n",
       "      <td>3377.00</td>\n",
       "      <td>3379.00</td>\n",
       "      <td>3372.00</td>\n",
       "      <td>3341.00</td>\n",
       "      <td>3322.00</td>\n",
       "    </tr>\n",
       "    <tr>\n",
       "      <th>3</th>\n",
       "      <td>4</td>\n",
       "      <td>Algeria</td>\n",
       "      <td>2901</td>\n",
       "      <td>Grand Total</td>\n",
       "      <td>674</td>\n",
       "      <td>Protein supply quantity (g/capita/day)</td>\n",
       "      <td>g/capita/day</td>\n",
       "      <td>94.90</td>\n",
       "      <td>94.35</td>\n",
       "      <td>94.72</td>\n",
       "      <td>92.82</td>\n",
       "      <td>91.83</td>\n",
       "    </tr>\n",
       "    <tr>\n",
       "      <th>4</th>\n",
       "      <td>4</td>\n",
       "      <td>Algeria</td>\n",
       "      <td>2901</td>\n",
       "      <td>Grand Total</td>\n",
       "      <td>684</td>\n",
       "      <td>Fat supply quantity (g/capita/day)</td>\n",
       "      <td>g/capita/day</td>\n",
       "      <td>80.06</td>\n",
       "      <td>79.36</td>\n",
       "      <td>77.40</td>\n",
       "      <td>80.19</td>\n",
       "      <td>77.28</td>\n",
       "    </tr>\n",
       "  </tbody>\n",
       "</table>\n",
       "</div>"
      ],
      "text/plain": [
       "   Area Code     Area  Item Code         Item  Element Code  \\\n",
       "0          4  Algeria       2501   Population           511   \n",
       "1          4  Algeria       2501   Population          5301   \n",
       "2          4  Algeria       2901  Grand Total           664   \n",
       "3          4  Algeria       2901  Grand Total           674   \n",
       "4          4  Algeria       2901  Grand Total           684   \n",
       "\n",
       "                                  Element             Unit     Y2014  \\\n",
       "0           Total Population - Both sexes     1000 persons  38924.00   \n",
       "1                Domestic supply quantity      1000 tonnes      0.00   \n",
       "2           Food supply (kcal/capita/day)  kcal/capita/day   3377.00   \n",
       "3  Protein supply quantity (g/capita/day)     g/capita/day     94.90   \n",
       "4      Fat supply quantity (g/capita/day)     g/capita/day     80.06   \n",
       "\n",
       "      Y2015     Y2016     Y2017     Y2018  \n",
       "0  39728.00  40551.00  41389.00  42228.00  \n",
       "1      0.00      0.00      0.00      0.00  \n",
       "2   3379.00   3372.00   3341.00   3322.00  \n",
       "3     94.35     94.72     92.82     91.83  \n",
       "4     79.36     77.40     80.19     77.28  "
      ]
     },
     "execution_count": 5,
     "metadata": {},
     "output_type": "execute_result"
    }
   ],
   "source": [
    "df.head()"
   ]
  },
  {
   "cell_type": "code",
   "execution_count": 7,
   "id": "1a8d935f",
   "metadata": {},
   "outputs": [
    {
     "name": "stdout",
     "output_type": "stream",
     "text": [
      "49\n"
     ]
    }
   ],
   "source": [
    "unique_countries = df['Area'].unique()\n",
    "print(len(unique_countries))"
   ]
  },
  {
   "cell_type": "code",
   "execution_count": 28,
   "id": "5d90aefd",
   "metadata": {},
   "outputs": [
    {
     "name": "stdout",
     "output_type": "stream",
     "text": [
      "Guinea-Bissau\n"
     ]
    }
   ],
   "source": [
    "columns = df[['Y2017', 'Area']]\n",
    "grouped = columns.groupby('Area').sum()\n",
    "seventh_area = grouped.sort_values(by='Y2017').index[6]\n",
    "print(seventh_lowest_area)"
   ]
  },
  {
   "cell_type": "code",
   "execution_count": 16,
   "id": "007354d9",
   "metadata": {},
   "outputs": [
    {
     "data": {
      "text/plain": [
       "Index(['Area Code', 'Area', 'Item Code', 'Item', 'Element Code', 'Element',\n",
       "       'Unit', 'Y2014', 'Y2015', 'Y2016', 'Y2017', 'Y2018'],\n",
       "      dtype='object')"
      ]
     },
     "execution_count": 16,
     "metadata": {},
     "output_type": "execute_result"
    }
   ],
   "source": [
    "df.columns"
   ]
  },
  {
   "cell_type": "code",
   "execution_count": 29,
   "id": "3bf8e39c",
   "metadata": {},
   "outputs": [
    {
     "name": "stdout",
     "output_type": "stream",
     "text": [
      "4251.81\n",
      "4039.32\n"
     ]
    }
   ],
   "source": [
    "new_df = df[['Item', 'Y2015', 'Y2018']]\n",
    "grouped = new_df.groupby('Item').sum()\n",
    "wine_2015 = grouped.loc['Wine', 'Y2015']\n",
    "wine_2018 = grouped.loc['Wine', 'Y2018']\n",
    "\n",
    "print(wine_2015)\n",
    "print(wine_2018)"
   ]
  },
  {
   "cell_type": "code",
   "execution_count": 30,
   "id": "e10c27a1",
   "metadata": {},
   "outputs": [
    {
     "name": "stdout",
     "output_type": "stream",
     "text": [
      "Mean 140.92\n",
      "Standard deviation 1671.86\n"
     ]
    }
   ],
   "source": [
    "year = df['Y2017']\n",
    "mean2017 = year.mean()\n",
    "std_dev = year.std()\n",
    "print(\"Mean\", round(mean_2017, 2))\n",
    "print(\"Standard deviation\", round(std_dev_2017, 2))"
   ]
  },
  {
   "cell_type": "code",
   "execution_count": 31,
   "id": "a3dd57b6",
   "metadata": {},
   "outputs": [
    {
     "name": "stdout",
     "output_type": "stream",
     "text": [
      "Unique values in 'Area' column: ['Algeria' 'Angola' 'Benin' 'Botswana' 'Burkina Faso' 'Cabo Verde'\n",
      " 'Cameroon' 'Central African Republic' 'Chad' 'Comoros' 'Congo'\n",
      " \"Côte d'Ivoire\" 'Djibouti' 'Egypt' 'Eswatini' 'Ethiopia' 'Ethiopia PDR'\n",
      " 'Gabon' 'Gambia' 'Ghana' 'Guinea' 'Guinea-Bissau' 'Kenya' 'Lesotho'\n",
      " 'Liberia' 'Madagascar' 'Malawi' 'Mali' 'Mauritania' 'Mauritius' 'Morocco'\n",
      " 'Mozambique' 'Namibia' 'Niger' 'Nigeria' 'Rwanda' 'Sao Tome and Principe'\n",
      " 'Senegal' 'Seychelles' 'Sierra Leone' 'South Africa' 'Sudan'\n",
      " 'Sudan (former)' 'Togo' 'Tunisia' 'Uganda' 'United Republic of Tanzania'\n",
      " 'Zambia' 'Zimbabwe']\n"
     ]
    }
   ],
   "source": [
    "print(\"Unique values in 'Area' column:\", df['Area'].unique())"
   ]
  },
  {
   "cell_type": "code",
   "execution_count": 32,
   "id": "c6b29e6e",
   "metadata": {},
   "outputs": [
    {
     "name": "stdout",
     "output_type": "stream",
     "text": [
      "Unique values in 'Item' column: ['Population' 'Grand Total' 'Vegetal Products' 'Animal Products'\n",
      " 'Cereals - Excluding Beer' 'Wheat and products' 'Rice and products'\n",
      " 'Barley and products' 'Maize and products' 'Rye and products' 'Oats'\n",
      " 'Millet and products' 'Sorghum and products' 'Cereals, Other'\n",
      " 'Starchy Roots' 'Cassava and products' 'Potatoes and products'\n",
      " 'Sweet potatoes' 'Yams' 'Roots, Other' 'Sugar Crops' 'Sugar cane'\n",
      " 'Sugar beet' 'Sugar & Sweeteners' 'Sugar (Raw Equivalent)'\n",
      " 'Sweeteners, Other' 'Honey' 'Pulses' 'Beans' 'Peas'\n",
      " 'Pulses, Other and products' 'Treenuts' 'Nuts and products' 'Oilcrops'\n",
      " 'Soyabeans' 'Groundnuts (Shelled Eq)' 'Sunflower seed'\n",
      " 'Rape and Mustardseed' 'Cottonseed' 'Coconuts - Incl Copra' 'Sesame seed'\n",
      " 'Olives (including preserved)' 'Oilcrops, Other' 'Vegetable Oils'\n",
      " 'Soyabean Oil' 'Groundnut Oil' 'Sunflowerseed Oil' 'Rape and Mustard Oil'\n",
      " 'Cottonseed Oil' 'Palmkernel Oil' 'Palm Oil' 'Coconut Oil'\n",
      " 'Sesameseed Oil' 'Olive Oil' 'Maize Germ Oil' 'Oilcrops Oil, Other'\n",
      " 'Vegetables' 'Tomatoes and products' 'Onions' 'Vegetables, Other'\n",
      " 'Fruits - Excluding Wine' 'Oranges, Mandarines'\n",
      " 'Lemons, Limes and products' 'Grapefruit and products' 'Citrus, Other'\n",
      " 'Bananas' 'Plantains' 'Apples and products' 'Pineapples and products'\n",
      " 'Dates' 'Grapes and products (excl wine)' 'Fruits, Other' 'Stimulants'\n",
      " 'Coffee and products' 'Cocoa Beans and products' 'Tea (including mate)'\n",
      " 'Spices' 'Pepper' 'Pimento' 'Cloves' 'Spices, Other'\n",
      " 'Alcoholic Beverages' 'Wine' 'Beer' 'Beverages, Fermented'\n",
      " 'Beverages, Alcoholic' 'Alcohol, Non-Food' 'Meat' 'Bovine Meat'\n",
      " 'Mutton & Goat Meat' 'Pigmeat' 'Poultry Meat' 'Meat, Other' 'Offals'\n",
      " 'Offals, Edible' 'Animal fats' 'Butter, Ghee' 'Cream'\n",
      " 'Fats, Animals, Raw' 'Fish, Body Oil' 'Fish, Liver Oil' 'Eggs'\n",
      " 'Milk - Excluding Butter' 'Fish, Seafood' 'Freshwater Fish'\n",
      " 'Demersal Fish' 'Pelagic Fish' 'Marine Fish, Other' 'Crustaceans'\n",
      " 'Cephalopods' 'Molluscs, Other' 'Aquatic Products, Other'\n",
      " 'Aquatic Animals, Others' 'Aquatic Plants' 'Miscellaneous' 'Infant food'\n",
      " 'Sugar non-centrifugal' 'Palm kernels' 'Ricebran Oil']\n"
     ]
    }
   ],
   "source": [
    "print(\"Unique values in 'Item' column:\", df['Item'].unique())"
   ]
  },
  {
   "cell_type": "code",
   "execution_count": 33,
   "id": "f58b1dee",
   "metadata": {},
   "outputs": [
    {
     "name": "stdout",
     "output_type": "stream",
     "text": [
      "No data available\n"
     ]
    }
   ],
   "source": [
    "mad_protein = df[(df['Area'] == 'Madagascar') & (df['Item'] == 'Protein Supply Quantity')]['Y2015'].values\n",
    "if len(madagascar_protein_2015) > 0:\n",
    "    print(\"Total Protein\", madagascar_protein_2015[0])\n",
    "else:\n",
    "    print(\"No data available\")"
   ]
  },
  {
   "cell_type": "code",
   "execution_count": 35,
   "id": "7fbf34a1",
   "metadata": {},
   "outputs": [
    {
     "name": "stdout",
     "output_type": "stream",
     "text": [
      "The highest area : Nigeria\n"
     ]
    }
   ],
   "source": [
    "cols = df[['Y2017', 'Area']]\n",
    "grouped = selected_columns.groupby('Area').sum()\n",
    "highest_area = grouped['Y2017'].idxmax()\n",
    "print(\"The highest area :\", highest_area)"
   ]
  },
  {
   "cell_type": "code",
   "execution_count": 36,
   "id": "c5a8a449",
   "metadata": {},
   "outputs": [
    {
     "name": "stdout",
     "output_type": "stream",
     "text": [
      "1589\n",
      "Percentage: 2.607 %\n"
     ]
    }
   ],
   "source": [
    "missing_vals = df['Y2014'].isnull().sum()\n",
    "total = len(df['Y2014'])\n",
    "percentage = (missing_vals / total) * 100\n",
    "print(missing_vals)\n",
    "print(\"Percentage:\", round(percentage, 3), \"%\")"
   ]
  },
  {
   "cell_type": "code",
   "execution_count": 38,
   "id": "1b9e6568",
   "metadata": {},
   "outputs": [
    {
     "name": "stdout",
     "output_type": "stream",
     "text": [
      "Total sum 292836.0\n"
     ]
    }
   ],
   "source": [
    "processing = df[(df['Element'] == 'Processing')]['Y2017']\n",
    "total = processing.sum()\n",
    "print(\"Total sum\", total)"
   ]
  },
  {
   "cell_type": "code",
   "execution_count": 39,
   "id": "9a44eb25",
   "metadata": {},
   "outputs": [
    {
     "name": "stdout",
     "output_type": "stream",
     "text": [
      "Year: Y2016\n"
     ]
    }
   ],
   "source": [
    "correlation = df[['Element Code', 'Y2014', 'Y2015', 'Y2016', 'Y2017', 'Y2018']].corr()\n",
    "least_value = correlation['Element Code'].idxmin()\n",
    "print(\"Year:\", least_value)"
   ]
  },
  {
   "cell_type": "code",
   "execution_count": null,
   "id": "2f23302d",
   "metadata": {},
   "outputs": [],
   "source": []
  }
 ],
 "metadata": {
  "kernelspec": {
   "display_name": "Python 3 (ipykernel)",
   "language": "python",
   "name": "python3"
  },
  "language_info": {
   "codemirror_mode": {
    "name": "ipython",
    "version": 3
   },
   "file_extension": ".py",
   "mimetype": "text/x-python",
   "name": "python",
   "nbconvert_exporter": "python",
   "pygments_lexer": "ipython3",
   "version": "3.9.13"
  }
 },
 "nbformat": 4,
 "nbformat_minor": 5
}
